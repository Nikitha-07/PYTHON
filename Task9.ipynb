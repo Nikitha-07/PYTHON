{
 "cells": [
  {
   "cell_type": "markdown",
   "id": "e69605a5",
   "metadata": {},
   "source": [
    "##### Task 9"
   ]
  },
  {
   "cell_type": "markdown",
   "id": "c3dc138d",
   "metadata": {},
   "source": [
    "1) Ask 2 numbers from users and store it in num1 and num2\n",
    "\n"
   ]
  },
  {
   "cell_type": "markdown",
   "id": "344e259d",
   "metadata": {},
   "source": [
    "2) Ask user to press 1 for addition,2 for subtraction,3 for multiplication and 4 for division\n"
   ]
  },
  {
   "cell_type": "markdown",
   "id": "66ba6c04",
   "metadata": {},
   "source": [
    "3) based on number given by user do the math operation\n"
   ]
  },
  {
   "cell_type": "code",
   "execution_count": 3,
   "id": "7f7ac61a",
   "metadata": {},
   "outputs": [
    {
     "name": "stdout",
     "output_type": "stream",
     "text": [
      "enter num1: 10\n",
      "enter num2: 5\n",
      "enter 1 for addition, 2 for subtraction,3 for multiplication and 4 for division4\n",
      "2.0\n"
     ]
    }
   ],
   "source": [
    "num1=int(input(\"enter num1: \"))\n",
    "num2=int(input(\"enter num2: \"))\n",
    "\n",
    "var = int(input(\"enter 1 for addition, 2 for subtraction,3 for multiplication and 4 for division\"))\n",
    "x=0\n",
    "if(var==1):\n",
    "    x=num1+num2\n",
    "    print(x)\n",
    "elif(var==2):\n",
    "    x=num1-num2\n",
    "    print(x)\n",
    "elif(var==3):\n",
    "    x=num1*num2\n",
    "    print(x)\n",
    "elif(var==4):\n",
    "    x=num1/num2\n",
    "    print(x)\n",
    "else:\n",
    "    print(\"please enter a valid input\")    "
   ]
  },
  {
   "cell_type": "code",
   "execution_count": null,
   "id": "79d8bb86",
   "metadata": {},
   "outputs": [],
   "source": []
  }
 ],
 "metadata": {
  "kernelspec": {
   "display_name": "Python 3",
   "language": "python",
   "name": "python3"
  },
  "language_info": {
   "codemirror_mode": {
    "name": "ipython",
    "version": 3
   },
   "file_extension": ".py",
   "mimetype": "text/x-python",
   "name": "python",
   "nbconvert_exporter": "python",
   "pygments_lexer": "ipython3",
   "version": "3.8.8"
  }
 },
 "nbformat": 4,
 "nbformat_minor": 5
}
