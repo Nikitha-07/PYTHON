{
 "cells": [
  {
   "cell_type": "markdown",
   "id": "6d6eb34e",
   "metadata": {},
   "source": [
    "##### Task 5"
   ]
  },
  {
   "cell_type": "code",
   "execution_count": 4,
   "id": "2867fb86",
   "metadata": {},
   "outputs": [],
   "source": [
    "dict1 = { \n",
    "   \"april_batch\":{ \n",
    "      \"student\":{ \n",
    "         \"name\":\"Mike\",\n",
    "         \"marks\":{ \n",
    "            \"python\":80,\n",
    "            \"maths\":70\n",
    "         }\n",
    "      }\n",
    "   }\n",
    "}\n"
   ]
  },
  {
   "cell_type": "markdown",
   "id": "aaa3311c",
   "metadata": {},
   "source": [
    "\n",
    "From the above dictionary, do the following tasks\n",
    "\n"
   ]
  },
  {
   "cell_type": "markdown",
   "id": "da19dafa",
   "metadata": {},
   "source": [
    "1.access \"Mike\"\n",
    "2.access 80\n",
    "3.change \"Mike\" to \"Your name\"\n",
    "4.add ML = 80 and DL = 80 inside marks"
   ]
  },
  {
   "cell_type": "code",
   "execution_count": 5,
   "id": "d3a6ad28",
   "metadata": {},
   "outputs": [
    {
     "data": {
      "text/plain": [
       "{'april_batch': {'student': {'name': 'Mike',\n",
       "   'marks': {'python': 80, 'maths': 70}}}}"
      ]
     },
     "execution_count": 5,
     "metadata": {},
     "output_type": "execute_result"
    }
   ],
   "source": [
    "dict1"
   ]
  },
  {
   "cell_type": "code",
   "execution_count": 6,
   "id": "df1d726b",
   "metadata": {},
   "outputs": [
    {
     "data": {
      "text/plain": [
       "'Mike'"
      ]
     },
     "execution_count": 6,
     "metadata": {},
     "output_type": "execute_result"
    }
   ],
   "source": [
    "# access \"Mike\" \n",
    "\n",
    "dict1[\"april_batch\"][\"student\"][\"name\"] "
   ]
  },
  {
   "cell_type": "code",
   "execution_count": 7,
   "id": "a34072bc",
   "metadata": {},
   "outputs": [
    {
     "data": {
      "text/plain": [
       "80"
      ]
     },
     "execution_count": 7,
     "metadata": {},
     "output_type": "execute_result"
    }
   ],
   "source": [
    "# access 80 \n",
    "dict1[\"april_batch\"][\"student\"][\"marks\"][\"python\"]"
   ]
  },
  {
   "cell_type": "code",
   "execution_count": 8,
   "id": "485a49d2",
   "metadata": {},
   "outputs": [],
   "source": [
    "# change \"Mike\" to \"Nikitha\"\n",
    "\n",
    "dict1[\"april_batch\"][\"student\"][\"name\"]= \"Nikitha\""
   ]
  },
  {
   "cell_type": "code",
   "execution_count": 9,
   "id": "c5c49fab",
   "metadata": {},
   "outputs": [
    {
     "data": {
      "text/plain": [
       "{'april_batch': {'student': {'name': 'Nikitha',\n",
       "   'marks': {'python': 80, 'maths': 70}}}}"
      ]
     },
     "execution_count": 9,
     "metadata": {},
     "output_type": "execute_result"
    }
   ],
   "source": [
    "dict1"
   ]
  },
  {
   "cell_type": "code",
   "execution_count": 10,
   "id": "bc111c82",
   "metadata": {},
   "outputs": [],
   "source": [
    "# add ML=80 and DL=80 inside the marks \n",
    "\n",
    "dict1[\"april_batch\"][\"student\"][\"marks\"].update({\"ML\":80,\"DL\":80})"
   ]
  },
  {
   "cell_type": "code",
   "execution_count": 11,
   "id": "d7139502",
   "metadata": {},
   "outputs": [
    {
     "data": {
      "text/plain": [
       "{'april_batch': {'student': {'name': 'Nikitha',\n",
       "   'marks': {'python': 80, 'maths': 70, 'ML': 80, 'DL': 80}}}}"
      ]
     },
     "execution_count": 11,
     "metadata": {},
     "output_type": "execute_result"
    }
   ],
   "source": [
    "dict1"
   ]
  },
  {
   "cell_type": "code",
   "execution_count": null,
   "id": "1dbc5863",
   "metadata": {},
   "outputs": [],
   "source": []
  }
 ],
 "metadata": {
  "kernelspec": {
   "display_name": "Python 3",
   "language": "python",
   "name": "python3"
  },
  "language_info": {
   "codemirror_mode": {
    "name": "ipython",
    "version": 3
   },
   "file_extension": ".py",
   "mimetype": "text/x-python",
   "name": "python",
   "nbconvert_exporter": "python",
   "pygments_lexer": "ipython3",
   "version": "3.8.8"
  }
 },
 "nbformat": 4,
 "nbformat_minor": 5
}
