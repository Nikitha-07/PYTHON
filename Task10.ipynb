{
 "cells": [
  {
   "cell_type": "markdown",
   "id": "00a8788c",
   "metadata": {},
   "source": [
    "##### Task10.1 what is the uasge of continue wiith an example."
   ]
  },
  {
   "cell_type": "code",
   "execution_count": 1,
   "id": "8b553c69",
   "metadata": {},
   "outputs": [],
   "source": [
    "# continue instructs a loop to continue to the next iteration and  code that follows the continue statement is not executed"
   ]
  },
  {
   "cell_type": "code",
   "execution_count": 2,
   "id": "8b7b6f85",
   "metadata": {},
   "outputs": [
    {
     "name": "stdout",
     "output_type": "stream",
     "text": [
      "s\n",
      "t\n",
      "r\n",
      "n\n",
      "g\n",
      "The end\n"
     ]
    }
   ],
   "source": [
    "for val in \"string\":\n",
    "    if val == \"i\":\n",
    "        continue\n",
    "    print(val)\n",
    "\n",
    "print(\"The end\")"
   ]
  },
  {
   "cell_type": "markdown",
   "id": "cc587916",
   "metadata": {},
   "source": [
    "##### Task 10.2  What is pass keyword, with example."
   ]
  },
  {
   "cell_type": "code",
   "execution_count": 5,
   "id": "5d3af3bc",
   "metadata": {},
   "outputs": [],
   "source": [
    "'''  pass statement is used as a placeholder for future code.\n",
    "   \n",
    "   When pass statement is executed, nothing happens, but to avoid getting an error when empty code is not allowed.\n",
    "\n",
    "    Empty code is not allowed in loops, function definitions, class definitions, or in if statements.'''\n",
    "\n",
    "\n",
    "seq=\"Hello\"\n",
    "for i in seq:\n",
    "    pass"
   ]
  },
  {
   "cell_type": "markdown",
   "id": "116dde66",
   "metadata": {},
   "source": [
    "#### Task 10  using while loop print numbers from 10 to 1"
   ]
  },
  {
   "cell_type": "code",
   "execution_count": 6,
   "id": "9d9633ed",
   "metadata": {},
   "outputs": [
    {
     "name": "stdout",
     "output_type": "stream",
     "text": [
      "10\n",
      "9\n",
      "8\n",
      "7\n",
      "6\n",
      "5\n",
      "4\n",
      "3\n",
      "2\n",
      "1\n"
     ]
    }
   ],
   "source": [
    "x=10\n",
    "while(x>0):\n",
    "    print(x)\n",
    "    x=x-1"
   ]
  },
  {
   "cell_type": "markdown",
   "id": "002e1ae5",
   "metadata": {},
   "source": [
    "#### try using for loop to loop over tuples,sets and dictionaries"
   ]
  },
  {
   "cell_type": "code",
   "execution_count": 7,
   "id": "472b78b5",
   "metadata": {},
   "outputs": [
    {
     "name": "stdout",
     "output_type": "stream",
     "text": [
      "1\n",
      "2\n",
      "3\n",
      "4\n"
     ]
    }
   ],
   "source": [
    "# tuple \n",
    "\n",
    "tuple=(1,2,3,4)\n",
    "for i in tuple:\n",
    "    print(i)"
   ]
  },
  {
   "cell_type": "code",
   "execution_count": 8,
   "id": "9a39f7ce",
   "metadata": {},
   "outputs": [
    {
     "name": "stdout",
     "output_type": "stream",
     "text": [
      "a\n",
      "c\n",
      "b\n"
     ]
    }
   ],
   "source": [
    "# set \n",
    "\n",
    "s={'a','b','c'}\n",
    "i=0\n",
    "for i in s:\n",
    "    print(i)"
   ]
  },
  {
   "cell_type": "code",
   "execution_count": 10,
   "id": "1d3b18f1",
   "metadata": {},
   "outputs": [
    {
     "name": "stdout",
     "output_type": "stream",
     "text": [
      "a\n",
      "c\n",
      "key\n"
     ]
    }
   ],
   "source": [
    "# dictionary \n",
    "\n",
    "d={'a':'b','c':'d','key':'value'}\n",
    "for i in d:\n",
    "    print(i)"
   ]
  },
  {
   "cell_type": "code",
   "execution_count": null,
   "id": "f5afd52c",
   "metadata": {},
   "outputs": [],
   "source": []
  }
 ],
 "metadata": {
  "kernelspec": {
   "display_name": "Python 3",
   "language": "python",
   "name": "python3"
  },
  "language_info": {
   "codemirror_mode": {
    "name": "ipython",
    "version": 3
   },
   "file_extension": ".py",
   "mimetype": "text/x-python",
   "name": "python",
   "nbconvert_exporter": "python",
   "pygments_lexer": "ipython3",
   "version": "3.8.8"
  }
 },
 "nbformat": 4,
 "nbformat_minor": 5
}
