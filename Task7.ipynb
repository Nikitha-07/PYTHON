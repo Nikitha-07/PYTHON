{
 "cells": [
  {
   "cell_type": "markdown",
   "id": "4694962b",
   "metadata": {},
   "source": [
    "#####  Task7 - go through other inbuilt methods like"
   ]
  },
  {
   "cell_type": "markdown",
   "id": "7e7bb618",
   "metadata": {},
   "source": [
    "1) difference() 2) symmetric_difference()"
   ]
  },
  {
   "cell_type": "code",
   "execution_count": 1,
   "id": "abd42588",
   "metadata": {},
   "outputs": [],
   "source": [
    "# 1) difference()     returns difference between 2 sets- A-B\n",
    "\n",
    "\n",
    "A = {10, 20, 30, 40,100}\n"
   ]
  },
  {
   "cell_type": "code",
   "execution_count": 2,
   "id": "2b2d43ef",
   "metadata": {},
   "outputs": [],
   "source": [
    "B = {50, 30, 100, 40, 60}"
   ]
  },
  {
   "cell_type": "code",
   "execution_count": 3,
   "id": "1ff35695",
   "metadata": {},
   "outputs": [
    {
     "name": "stdout",
     "output_type": "stream",
     "text": [
      "{10, 20}\n"
     ]
    }
   ],
   "source": [
    "print (A.difference(B))    #A-B"
   ]
  },
  {
   "cell_type": "code",
   "execution_count": 4,
   "id": "0f9298c8",
   "metadata": {},
   "outputs": [
    {
     "name": "stdout",
     "output_type": "stream",
     "text": [
      "{50, 60}\n"
     ]
    }
   ],
   "source": [
    "print (B.difference(A))    #B-A"
   ]
  },
  {
   "cell_type": "code",
   "execution_count": 5,
   "id": "965010eb",
   "metadata": {},
   "outputs": [],
   "source": [
    "# 2) symmetric_difference() symmetric difference of two sets X and Y contains the elements that are in either\n",
    "#                             set X or Set Y but not in both\n",
    "\n",
    "\n",
    "X = {1,2,3}"
   ]
  },
  {
   "cell_type": "code",
   "execution_count": 6,
   "id": "24098afa",
   "metadata": {},
   "outputs": [],
   "source": [
    "Y = {2,3,4}"
   ]
  },
  {
   "cell_type": "code",
   "execution_count": 7,
   "id": "380937a9",
   "metadata": {},
   "outputs": [
    {
     "name": "stdout",
     "output_type": "stream",
     "text": [
      "{1, 4}\n"
     ]
    }
   ],
   "source": [
    "print(X.symmetric_difference(Y))"
   ]
  },
  {
   "cell_type": "code",
   "execution_count": 8,
   "id": "1d604846",
   "metadata": {},
   "outputs": [],
   "source": [
    "p={40,50,60}"
   ]
  },
  {
   "cell_type": "code",
   "execution_count": 9,
   "id": "be99ac82",
   "metadata": {},
   "outputs": [],
   "source": [
    "q={60,70,80}"
   ]
  },
  {
   "cell_type": "code",
   "execution_count": 10,
   "id": "7bec61b1",
   "metadata": {},
   "outputs": [
    {
     "name": "stdout",
     "output_type": "stream",
     "text": [
      "{70, 40, 80, 50}\n"
     ]
    }
   ],
   "source": [
    "print(p.symmetric_difference(q))"
   ]
  },
  {
   "cell_type": "code",
   "execution_count": null,
   "id": "c225652d",
   "metadata": {},
   "outputs": [],
   "source": []
  }
 ],
 "metadata": {
  "kernelspec": {
   "display_name": "Python 3",
   "language": "python",
   "name": "python3"
  },
  "language_info": {
   "codemirror_mode": {
    "name": "ipython",
    "version": 3
   },
   "file_extension": ".py",
   "mimetype": "text/x-python",
   "name": "python",
   "nbconvert_exporter": "python",
   "pygments_lexer": "ipython3",
   "version": "3.8.8"
  }
 },
 "nbformat": 4,
 "nbformat_minor": 5
}
