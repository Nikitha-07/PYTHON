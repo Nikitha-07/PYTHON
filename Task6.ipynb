{
 "cells": [
  {
   "cell_type": "markdown",
   "id": "83ced7a7",
   "metadata": {},
   "source": [
    "#####  Task6 - Add and remove the elements from a tuple."
   ]
  },
  {
   "cell_type": "markdown",
   "id": "6989ed8e",
   "metadata": {},
   "source": [
    "Adding elements to tuple"
   ]
  },
  {
   "cell_type": "code",
   "execution_count": 1,
   "id": "782829bd",
   "metadata": {},
   "outputs": [],
   "source": [
    "t=(1,2,3,4)"
   ]
  },
  {
   "cell_type": "code",
   "execution_count": 2,
   "id": "03c45ba1",
   "metadata": {},
   "outputs": [
    {
     "data": {
      "text/plain": [
       "(1, 2, 3, 4)"
      ]
     },
     "execution_count": 2,
     "metadata": {},
     "output_type": "execute_result"
    }
   ],
   "source": [
    "t"
   ]
  },
  {
   "cell_type": "code",
   "execution_count": 3,
   "id": "8420a5fa",
   "metadata": {},
   "outputs": [],
   "source": [
    "l=list(t)"
   ]
  },
  {
   "cell_type": "code",
   "execution_count": 4,
   "id": "58fae687",
   "metadata": {},
   "outputs": [
    {
     "data": {
      "text/plain": [
       "[1, 2, 3, 4]"
      ]
     },
     "execution_count": 4,
     "metadata": {},
     "output_type": "execute_result"
    }
   ],
   "source": [
    "l"
   ]
  },
  {
   "cell_type": "code",
   "execution_count": 5,
   "id": "af5000ef",
   "metadata": {},
   "outputs": [],
   "source": [
    "l.insert(2,10)"
   ]
  },
  {
   "cell_type": "code",
   "execution_count": 6,
   "id": "6775dce9",
   "metadata": {},
   "outputs": [],
   "source": [
    "l.insert(3,20)"
   ]
  },
  {
   "cell_type": "code",
   "execution_count": 7,
   "id": "bf475815",
   "metadata": {},
   "outputs": [
    {
     "data": {
      "text/plain": [
       "[1, 2, 10, 20, 3, 4]"
      ]
     },
     "execution_count": 7,
     "metadata": {},
     "output_type": "execute_result"
    }
   ],
   "source": [
    "l"
   ]
  },
  {
   "cell_type": "code",
   "execution_count": 8,
   "id": "5908302e",
   "metadata": {},
   "outputs": [],
   "source": [
    "t2=tuple(l)"
   ]
  },
  {
   "cell_type": "code",
   "execution_count": 9,
   "id": "1fc0cba0",
   "metadata": {},
   "outputs": [
    {
     "data": {
      "text/plain": [
       "(1, 2, 10, 20, 3, 4)"
      ]
     },
     "execution_count": 9,
     "metadata": {},
     "output_type": "execute_result"
    }
   ],
   "source": [
    "t2"
   ]
  },
  {
   "cell_type": "markdown",
   "id": "66fe1104",
   "metadata": {},
   "source": [
    "Removing elements from tuple"
   ]
  },
  {
   "cell_type": "code",
   "execution_count": 10,
   "id": "e2aa8300",
   "metadata": {},
   "outputs": [
    {
     "data": {
      "text/plain": [
       "(1, 2, 3, 4)"
      ]
     },
     "execution_count": 10,
     "metadata": {},
     "output_type": "execute_result"
    }
   ],
   "source": [
    "t"
   ]
  },
  {
   "cell_type": "code",
   "execution_count": 11,
   "id": "7f29a140",
   "metadata": {},
   "outputs": [],
   "source": [
    "l2=list(t)"
   ]
  },
  {
   "cell_type": "code",
   "execution_count": 12,
   "id": "eb09a6f4",
   "metadata": {},
   "outputs": [
    {
     "data": {
      "text/plain": [
       "[1, 2, 3, 4]"
      ]
     },
     "execution_count": 12,
     "metadata": {},
     "output_type": "execute_result"
    }
   ],
   "source": [
    "l2"
   ]
  },
  {
   "cell_type": "code",
   "execution_count": 13,
   "id": "f9b14a29",
   "metadata": {},
   "outputs": [],
   "source": [
    "l2.remove(1)"
   ]
  },
  {
   "cell_type": "code",
   "execution_count": 14,
   "id": "2c032ef4",
   "metadata": {},
   "outputs": [
    {
     "data": {
      "text/plain": [
       "[2, 3, 4]"
      ]
     },
     "execution_count": 14,
     "metadata": {},
     "output_type": "execute_result"
    }
   ],
   "source": [
    "l2"
   ]
  },
  {
   "cell_type": "code",
   "execution_count": 15,
   "id": "0cfa81fd",
   "metadata": {},
   "outputs": [],
   "source": [
    "l2.remove(4)"
   ]
  },
  {
   "cell_type": "code",
   "execution_count": 16,
   "id": "12298d41",
   "metadata": {},
   "outputs": [
    {
     "data": {
      "text/plain": [
       "[2, 3]"
      ]
     },
     "execution_count": 16,
     "metadata": {},
     "output_type": "execute_result"
    }
   ],
   "source": [
    "l2"
   ]
  },
  {
   "cell_type": "code",
   "execution_count": 17,
   "id": "52244c98",
   "metadata": {},
   "outputs": [],
   "source": [
    "t3=tuple(l2)"
   ]
  },
  {
   "cell_type": "code",
   "execution_count": 18,
   "id": "6b3309ce",
   "metadata": {},
   "outputs": [
    {
     "data": {
      "text/plain": [
       "(2, 3)"
      ]
     },
     "execution_count": 18,
     "metadata": {},
     "output_type": "execute_result"
    }
   ],
   "source": [
    "t3"
   ]
  },
  {
   "cell_type": "code",
   "execution_count": null,
   "id": "514fab4f",
   "metadata": {},
   "outputs": [],
   "source": []
  }
 ],
 "metadata": {
  "kernelspec": {
   "display_name": "Python 3",
   "language": "python",
   "name": "python3"
  },
  "language_info": {
   "codemirror_mode": {
    "name": "ipython",
    "version": 3
   },
   "file_extension": ".py",
   "mimetype": "text/x-python",
   "name": "python",
   "nbconvert_exporter": "python",
   "pygments_lexer": "ipython3",
   "version": "3.8.8"
  }
 },
 "nbformat": 4,
 "nbformat_minor": 5
}
