{
 "cells": [
  {
   "cell_type": "markdown",
   "id": "5772e795",
   "metadata": {},
   "source": [
    "##### Task 11.1 Explain Return keyword with example."
   ]
  },
  {
   "cell_type": "code",
   "execution_count": 1,
   "id": "bc061faa",
   "metadata": {},
   "outputs": [
    {
     "name": "stdout",
     "output_type": "stream",
     "text": [
      "6\n"
     ]
    }
   ],
   "source": [
    "#  return keyword exits a function and instructs Python to continue executing the main program\n",
    "# it can send a value back to the main program\n",
    "\n",
    "def func():\n",
    "  return 3+3\n",
    "  print(\"Hello, World!\")  \n",
    "\n",
    "print(func())"
   ]
  },
  {
   "cell_type": "code",
   "execution_count": 2,
   "id": "231eede1",
   "metadata": {},
   "outputs": [
    {
     "name": "stdout",
     "output_type": "stream",
     "text": [
      "add function executed\n"
     ]
    },
    {
     "data": {
      "text/plain": [
       "11"
      ]
     },
     "execution_count": 2,
     "metadata": {},
     "output_type": "execute_result"
    }
   ],
   "source": [
    "def add(a=5,b=6):\n",
    "    c=a+b\n",
    "    print(\"add function executed\")\n",
    "    return c\n",
    "add()"
   ]
  },
  {
   "cell_type": "markdown",
   "id": "f03bb3de",
   "metadata": {},
   "source": [
    "##### Task 11.2 "
   ]
  },
  {
   "cell_type": "markdown",
   "id": "9850a67d",
   "metadata": {},
   "source": [
    "1) Ask 2 numbers from users and store it in num1 and num2\n",
    "2) Ask user to press 1 for addition,2 for subtraction,3 for multiplication and 4 for division\n",
    "3) create 4 seperate functions for each operation (i.e. addition,subtraction,multiplication and division)\n",
    "4) based on number given by user,call that perticular function and print the output"
   ]
  },
  {
   "cell_type": "code",
   "execution_count": 3,
   "id": "9f3af569",
   "metadata": {},
   "outputs": [
    {
     "name": "stdout",
     "output_type": "stream",
     "text": [
      "enter num1: 16\n",
      "enter num2: 2\n",
      "enter 1 for addition, 2 for subtraction,3 for multiplication and 4 for division:  4\n",
      "8.0\n"
     ]
    }
   ],
   "source": [
    "def add(a,b):\n",
    "    x=a+b\n",
    "    return x\n",
    "def sub(a,b):\n",
    "    y=a-b\n",
    "    return y\n",
    "def mul(a,b):\n",
    "    z=a*b\n",
    "    return z\n",
    "def div(a,b):\n",
    "    p=a/b\n",
    "    return p\n",
    "\n",
    "num1=int(input(\"enter num1: \"))\n",
    "num2=int(input(\"enter num2: \"))\n",
    "\n",
    "\n",
    "var = int(input(\"enter 1 for addition, 2 for subtraction,3 for multiplication and 4 for division:  \"))\n",
    "x=0\n",
    "if(var==1):\n",
    "    x=add(num1,num2)\n",
    "    print(x)\n",
    "elif(var==2):\n",
    "    x=sub(num1,num2)\n",
    "    print(x)\n",
    "elif(var==3):\n",
    "    x=mul(num1,num2)\n",
    "    print(x)\n",
    "elif(var==4):\n",
    "    x=div(num1,num2)\n",
    "    print(x)\n",
    "else:\n",
    "    print(\"invalid input\")"
   ]
  },
  {
   "cell_type": "code",
   "execution_count": null,
   "id": "e494d46e",
   "metadata": {},
   "outputs": [],
   "source": []
  }
 ],
 "metadata": {
  "kernelspec": {
   "display_name": "Python 3",
   "language": "python",
   "name": "python3"
  },
  "language_info": {
   "codemirror_mode": {
    "name": "ipython",
    "version": 3
   },
   "file_extension": ".py",
   "mimetype": "text/x-python",
   "name": "python",
   "nbconvert_exporter": "python",
   "pygments_lexer": "ipython3",
   "version": "3.8.8"
  }
 },
 "nbformat": 4,
 "nbformat_minor": 5
}
